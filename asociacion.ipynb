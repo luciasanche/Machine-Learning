{
 "cells": [
  {
   "cell_type": "code",
   "execution_count": 1,
   "metadata": {},
   "outputs": [],
   "source": [
    "import numpy as np\n",
    "import pandas as pd \n",
    "\n",
    "import matplotlib.pyplot as plt \n",
    "import seaborn as sns\n",
    "import plotly.express as px\n",
    "import networkx as nx\n",
    "\n",
    "\n",
    "from mlxtend.preprocessing import TransactionEncoder\n",
    "from mlxtend.frequent_patterns import apriori, association_rules"
   ]
  },
  {
   "cell_type": "markdown",
   "metadata": {},
   "source": [
    "# Exploración inicial y preprocesamiento de datos"
   ]
  },
  {
   "cell_type": "code",
   "execution_count": 2,
   "metadata": {},
   "outputs": [
    {
     "data": {
      "text/html": [
       "<div>\n",
       "<style scoped>\n",
       "    .dataframe tbody tr th:only-of-type {\n",
       "        vertical-align: middle;\n",
       "    }\n",
       "\n",
       "    .dataframe tbody tr th {\n",
       "        vertical-align: top;\n",
       "    }\n",
       "\n",
       "    .dataframe thead th {\n",
       "        text-align: right;\n",
       "    }\n",
       "</style>\n",
       "<table border=\"1\" class=\"dataframe\">\n",
       "  <thead>\n",
       "    <tr style=\"text-align: right;\">\n",
       "      <th></th>\n",
       "      <th>0</th>\n",
       "    </tr>\n",
       "  </thead>\n",
       "  <tbody>\n",
       "    <tr>\n",
       "      <th>0</th>\n",
       "      <td>citrus fruit,semi-finished bread,margarine,rea...</td>\n",
       "    </tr>\n",
       "    <tr>\n",
       "      <th>1</th>\n",
       "      <td>tropical fruit,yogurt,coffee</td>\n",
       "    </tr>\n",
       "    <tr>\n",
       "      <th>2</th>\n",
       "      <td>whole milk</td>\n",
       "    </tr>\n",
       "    <tr>\n",
       "      <th>3</th>\n",
       "      <td>pip fruit,yogurt,cream cheese ,meat spreads</td>\n",
       "    </tr>\n",
       "    <tr>\n",
       "      <th>4</th>\n",
       "      <td>other vegetables,whole milk,condensed milk,lon...</td>\n",
       "    </tr>\n",
       "  </tbody>\n",
       "</table>\n",
       "</div>"
      ],
      "text/plain": [
       "                                                   0\n",
       "0  citrus fruit,semi-finished bread,margarine,rea...\n",
       "1                       tropical fruit,yogurt,coffee\n",
       "2                                         whole milk\n",
       "3        pip fruit,yogurt,cream cheese ,meat spreads\n",
       "4  other vegetables,whole milk,condensed milk,lon..."
      ]
     },
     "execution_count": 2,
     "metadata": {},
     "output_type": "execute_result"
    }
   ],
   "source": [
    "dataset = pd.read_csv(\"groceries.csv\", sep=\";\", header= None)\n",
    "\n",
    "dataset.head()\n"
   ]
  },
  {
   "cell_type": "code",
   "execution_count": 3,
   "metadata": {},
   "outputs": [
    {
     "data": {
      "text/html": [
       "<div>\n",
       "<style scoped>\n",
       "    .dataframe tbody tr th:only-of-type {\n",
       "        vertical-align: middle;\n",
       "    }\n",
       "\n",
       "    .dataframe tbody tr th {\n",
       "        vertical-align: top;\n",
       "    }\n",
       "\n",
       "    .dataframe thead th {\n",
       "        text-align: right;\n",
       "    }\n",
       "</style>\n",
       "<table border=\"1\" class=\"dataframe\">\n",
       "  <thead>\n",
       "    <tr style=\"text-align: right;\">\n",
       "      <th></th>\n",
       "      <th>Instant food products</th>\n",
       "      <th>UHT-milk</th>\n",
       "      <th>abrasive cleaner</th>\n",
       "      <th>artif. sweetener</th>\n",
       "      <th>baby cosmetics</th>\n",
       "      <th>baby food</th>\n",
       "      <th>bags</th>\n",
       "      <th>baking powder</th>\n",
       "      <th>bathroom cleaner</th>\n",
       "      <th>beef</th>\n",
       "      <th>...</th>\n",
       "      <th>turkey</th>\n",
       "      <th>vinegar</th>\n",
       "      <th>waffles</th>\n",
       "      <th>whipped/sour cream</th>\n",
       "      <th>whisky</th>\n",
       "      <th>white bread</th>\n",
       "      <th>white wine</th>\n",
       "      <th>whole milk</th>\n",
       "      <th>yogurt</th>\n",
       "      <th>zwieback</th>\n",
       "    </tr>\n",
       "  </thead>\n",
       "  <tbody>\n",
       "    <tr>\n",
       "      <th>0</th>\n",
       "      <td>False</td>\n",
       "      <td>False</td>\n",
       "      <td>False</td>\n",
       "      <td>False</td>\n",
       "      <td>False</td>\n",
       "      <td>False</td>\n",
       "      <td>False</td>\n",
       "      <td>False</td>\n",
       "      <td>False</td>\n",
       "      <td>False</td>\n",
       "      <td>...</td>\n",
       "      <td>False</td>\n",
       "      <td>False</td>\n",
       "      <td>False</td>\n",
       "      <td>False</td>\n",
       "      <td>False</td>\n",
       "      <td>False</td>\n",
       "      <td>False</td>\n",
       "      <td>False</td>\n",
       "      <td>False</td>\n",
       "      <td>False</td>\n",
       "    </tr>\n",
       "    <tr>\n",
       "      <th>1</th>\n",
       "      <td>False</td>\n",
       "      <td>False</td>\n",
       "      <td>False</td>\n",
       "      <td>False</td>\n",
       "      <td>False</td>\n",
       "      <td>False</td>\n",
       "      <td>False</td>\n",
       "      <td>False</td>\n",
       "      <td>False</td>\n",
       "      <td>False</td>\n",
       "      <td>...</td>\n",
       "      <td>False</td>\n",
       "      <td>False</td>\n",
       "      <td>False</td>\n",
       "      <td>False</td>\n",
       "      <td>False</td>\n",
       "      <td>False</td>\n",
       "      <td>False</td>\n",
       "      <td>False</td>\n",
       "      <td>True</td>\n",
       "      <td>False</td>\n",
       "    </tr>\n",
       "    <tr>\n",
       "      <th>3</th>\n",
       "      <td>False</td>\n",
       "      <td>False</td>\n",
       "      <td>False</td>\n",
       "      <td>False</td>\n",
       "      <td>False</td>\n",
       "      <td>False</td>\n",
       "      <td>False</td>\n",
       "      <td>False</td>\n",
       "      <td>False</td>\n",
       "      <td>False</td>\n",
       "      <td>...</td>\n",
       "      <td>False</td>\n",
       "      <td>False</td>\n",
       "      <td>False</td>\n",
       "      <td>False</td>\n",
       "      <td>False</td>\n",
       "      <td>False</td>\n",
       "      <td>False</td>\n",
       "      <td>False</td>\n",
       "      <td>True</td>\n",
       "      <td>False</td>\n",
       "    </tr>\n",
       "    <tr>\n",
       "      <th>4</th>\n",
       "      <td>False</td>\n",
       "      <td>False</td>\n",
       "      <td>False</td>\n",
       "      <td>False</td>\n",
       "      <td>False</td>\n",
       "      <td>False</td>\n",
       "      <td>False</td>\n",
       "      <td>False</td>\n",
       "      <td>False</td>\n",
       "      <td>False</td>\n",
       "      <td>...</td>\n",
       "      <td>False</td>\n",
       "      <td>False</td>\n",
       "      <td>False</td>\n",
       "      <td>False</td>\n",
       "      <td>False</td>\n",
       "      <td>False</td>\n",
       "      <td>False</td>\n",
       "      <td>True</td>\n",
       "      <td>False</td>\n",
       "      <td>False</td>\n",
       "    </tr>\n",
       "    <tr>\n",
       "      <th>5</th>\n",
       "      <td>False</td>\n",
       "      <td>False</td>\n",
       "      <td>True</td>\n",
       "      <td>False</td>\n",
       "      <td>False</td>\n",
       "      <td>False</td>\n",
       "      <td>False</td>\n",
       "      <td>False</td>\n",
       "      <td>False</td>\n",
       "      <td>False</td>\n",
       "      <td>...</td>\n",
       "      <td>False</td>\n",
       "      <td>False</td>\n",
       "      <td>False</td>\n",
       "      <td>False</td>\n",
       "      <td>False</td>\n",
       "      <td>False</td>\n",
       "      <td>False</td>\n",
       "      <td>True</td>\n",
       "      <td>True</td>\n",
       "      <td>False</td>\n",
       "    </tr>\n",
       "    <tr>\n",
       "      <th>...</th>\n",
       "      <td>...</td>\n",
       "      <td>...</td>\n",
       "      <td>...</td>\n",
       "      <td>...</td>\n",
       "      <td>...</td>\n",
       "      <td>...</td>\n",
       "      <td>...</td>\n",
       "      <td>...</td>\n",
       "      <td>...</td>\n",
       "      <td>...</td>\n",
       "      <td>...</td>\n",
       "      <td>...</td>\n",
       "      <td>...</td>\n",
       "      <td>...</td>\n",
       "      <td>...</td>\n",
       "      <td>...</td>\n",
       "      <td>...</td>\n",
       "      <td>...</td>\n",
       "      <td>...</td>\n",
       "      <td>...</td>\n",
       "      <td>...</td>\n",
       "    </tr>\n",
       "    <tr>\n",
       "      <th>9829</th>\n",
       "      <td>False</td>\n",
       "      <td>False</td>\n",
       "      <td>False</td>\n",
       "      <td>False</td>\n",
       "      <td>False</td>\n",
       "      <td>False</td>\n",
       "      <td>False</td>\n",
       "      <td>False</td>\n",
       "      <td>False</td>\n",
       "      <td>False</td>\n",
       "      <td>...</td>\n",
       "      <td>False</td>\n",
       "      <td>False</td>\n",
       "      <td>False</td>\n",
       "      <td>False</td>\n",
       "      <td>False</td>\n",
       "      <td>False</td>\n",
       "      <td>False</td>\n",
       "      <td>False</td>\n",
       "      <td>False</td>\n",
       "      <td>True</td>\n",
       "    </tr>\n",
       "    <tr>\n",
       "      <th>9830</th>\n",
       "      <td>False</td>\n",
       "      <td>False</td>\n",
       "      <td>False</td>\n",
       "      <td>False</td>\n",
       "      <td>False</td>\n",
       "      <td>False</td>\n",
       "      <td>False</td>\n",
       "      <td>False</td>\n",
       "      <td>False</td>\n",
       "      <td>True</td>\n",
       "      <td>...</td>\n",
       "      <td>False</td>\n",
       "      <td>False</td>\n",
       "      <td>False</td>\n",
       "      <td>True</td>\n",
       "      <td>False</td>\n",
       "      <td>False</td>\n",
       "      <td>False</td>\n",
       "      <td>True</td>\n",
       "      <td>False</td>\n",
       "      <td>False</td>\n",
       "    </tr>\n",
       "    <tr>\n",
       "      <th>9832</th>\n",
       "      <td>False</td>\n",
       "      <td>False</td>\n",
       "      <td>False</td>\n",
       "      <td>False</td>\n",
       "      <td>False</td>\n",
       "      <td>False</td>\n",
       "      <td>False</td>\n",
       "      <td>False</td>\n",
       "      <td>False</td>\n",
       "      <td>False</td>\n",
       "      <td>...</td>\n",
       "      <td>False</td>\n",
       "      <td>False</td>\n",
       "      <td>False</td>\n",
       "      <td>False</td>\n",
       "      <td>False</td>\n",
       "      <td>False</td>\n",
       "      <td>False</td>\n",
       "      <td>False</td>\n",
       "      <td>True</td>\n",
       "      <td>False</td>\n",
       "    </tr>\n",
       "    <tr>\n",
       "      <th>9833</th>\n",
       "      <td>False</td>\n",
       "      <td>False</td>\n",
       "      <td>False</td>\n",
       "      <td>False</td>\n",
       "      <td>False</td>\n",
       "      <td>False</td>\n",
       "      <td>False</td>\n",
       "      <td>False</td>\n",
       "      <td>False</td>\n",
       "      <td>False</td>\n",
       "      <td>...</td>\n",
       "      <td>False</td>\n",
       "      <td>False</td>\n",
       "      <td>False</td>\n",
       "      <td>False</td>\n",
       "      <td>False</td>\n",
       "      <td>False</td>\n",
       "      <td>False</td>\n",
       "      <td>False</td>\n",
       "      <td>False</td>\n",
       "      <td>False</td>\n",
       "    </tr>\n",
       "    <tr>\n",
       "      <th>9834</th>\n",
       "      <td>False</td>\n",
       "      <td>False</td>\n",
       "      <td>False</td>\n",
       "      <td>False</td>\n",
       "      <td>False</td>\n",
       "      <td>False</td>\n",
       "      <td>False</td>\n",
       "      <td>False</td>\n",
       "      <td>False</td>\n",
       "      <td>False</td>\n",
       "      <td>...</td>\n",
       "      <td>False</td>\n",
       "      <td>True</td>\n",
       "      <td>False</td>\n",
       "      <td>False</td>\n",
       "      <td>False</td>\n",
       "      <td>False</td>\n",
       "      <td>False</td>\n",
       "      <td>False</td>\n",
       "      <td>False</td>\n",
       "      <td>False</td>\n",
       "    </tr>\n",
       "  </tbody>\n",
       "</table>\n",
       "<p>7676 rows × 169 columns</p>\n",
       "</div>"
      ],
      "text/plain": [
       "      Instant food products  UHT-milk  abrasive cleaner  artif. sweetener  \\\n",
       "0                     False     False             False             False   \n",
       "1                     False     False             False             False   \n",
       "3                     False     False             False             False   \n",
       "4                     False     False             False             False   \n",
       "5                     False     False              True             False   \n",
       "...                     ...       ...               ...               ...   \n",
       "9829                  False     False             False             False   \n",
       "9830                  False     False             False             False   \n",
       "9832                  False     False             False             False   \n",
       "9833                  False     False             False             False   \n",
       "9834                  False     False             False             False   \n",
       "\n",
       "      baby cosmetics  baby food   bags  baking powder  bathroom cleaner  \\\n",
       "0              False      False  False          False             False   \n",
       "1              False      False  False          False             False   \n",
       "3              False      False  False          False             False   \n",
       "4              False      False  False          False             False   \n",
       "5              False      False  False          False             False   \n",
       "...              ...        ...    ...            ...               ...   \n",
       "9829           False      False  False          False             False   \n",
       "9830           False      False  False          False             False   \n",
       "9832           False      False  False          False             False   \n",
       "9833           False      False  False          False             False   \n",
       "9834           False      False  False          False             False   \n",
       "\n",
       "       beef  ...  turkey  vinegar  waffles  whipped/sour cream  whisky  \\\n",
       "0     False  ...   False    False    False               False   False   \n",
       "1     False  ...   False    False    False               False   False   \n",
       "3     False  ...   False    False    False               False   False   \n",
       "4     False  ...   False    False    False               False   False   \n",
       "5     False  ...   False    False    False               False   False   \n",
       "...     ...  ...     ...      ...      ...                 ...     ...   \n",
       "9829  False  ...   False    False    False               False   False   \n",
       "9830   True  ...   False    False    False                True   False   \n",
       "9832  False  ...   False    False    False               False   False   \n",
       "9833  False  ...   False    False    False               False   False   \n",
       "9834  False  ...   False     True    False               False   False   \n",
       "\n",
       "      white bread  white wine  whole milk  yogurt  zwieback  \n",
       "0           False       False       False   False     False  \n",
       "1           False       False       False    True     False  \n",
       "3           False       False       False    True     False  \n",
       "4           False       False        True   False     False  \n",
       "5           False       False        True    True     False  \n",
       "...           ...         ...         ...     ...       ...  \n",
       "9829        False       False       False   False      True  \n",
       "9830        False       False        True   False     False  \n",
       "9832        False       False       False    True     False  \n",
       "9833        False       False       False   False     False  \n",
       "9834        False       False       False   False     False  \n",
       "\n",
       "[7676 rows x 169 columns]"
      ]
     },
     "execution_count": 3,
     "metadata": {},
     "output_type": "execute_result"
    }
   ],
   "source": [
    "transactions = [transaction.split(',') for transaction in dataset[0]]\n",
    "te = TransactionEncoder()\n",
    "te_ary = te.fit(transactions).transform(transactions)\n",
    "df = pd.DataFrame(te_ary, columns=te.columns_)\n",
    "\n",
    "# Eliminamos filas con solo 1 elemento\n",
    "df = df.drop(df[df.sum(axis=1) == 1].index)\n",
    "df\n"
   ]
  },
  {
   "cell_type": "code",
   "execution_count": 4,
   "metadata": {},
   "outputs": [],
   "source": [
    "purchased = []\n",
    "for i in df.columns:\n",
    "    purchased.append(list(df[i].value_counts())[1])\n",
    "\n",
    "count_df = pd.DataFrame([purchased], columns=df.copy().columns)\n",
    "count_df.index = ['times_purchased']"
   ]
  },
  {
   "cell_type": "code",
   "execution_count": 5,
   "metadata": {},
   "outputs": [
    {
     "data": {
      "text/html": [
       "<div>\n",
       "<style scoped>\n",
       "    .dataframe tbody tr th:only-of-type {\n",
       "        vertical-align: middle;\n",
       "    }\n",
       "\n",
       "    .dataframe tbody tr th {\n",
       "        vertical-align: top;\n",
       "    }\n",
       "\n",
       "    .dataframe thead th {\n",
       "        text-align: right;\n",
       "    }\n",
       "</style>\n",
       "<table border=\"1\" class=\"dataframe\">\n",
       "  <thead>\n",
       "    <tr style=\"text-align: right;\">\n",
       "      <th></th>\n",
       "      <th>Instant food products</th>\n",
       "      <th>UHT-milk</th>\n",
       "      <th>abrasive cleaner</th>\n",
       "      <th>artif. sweetener</th>\n",
       "      <th>baby cosmetics</th>\n",
       "      <th>baby food</th>\n",
       "      <th>bags</th>\n",
       "      <th>baking powder</th>\n",
       "      <th>bathroom cleaner</th>\n",
       "      <th>beef</th>\n",
       "      <th>...</th>\n",
       "      <th>turkey</th>\n",
       "      <th>vinegar</th>\n",
       "      <th>waffles</th>\n",
       "      <th>whipped/sour cream</th>\n",
       "      <th>whisky</th>\n",
       "      <th>white bread</th>\n",
       "      <th>white wine</th>\n",
       "      <th>whole milk</th>\n",
       "      <th>yogurt</th>\n",
       "      <th>zwieback</th>\n",
       "    </tr>\n",
       "  </thead>\n",
       "  <tbody>\n",
       "    <tr>\n",
       "      <th>times_purchased</th>\n",
       "      <td>76</td>\n",
       "      <td>319</td>\n",
       "      <td>34</td>\n",
       "      <td>31</td>\n",
       "      <td>5</td>\n",
       "      <td>1</td>\n",
       "      <td>2</td>\n",
       "      <td>171</td>\n",
       "      <td>24</td>\n",
       "      <td>490</td>\n",
       "      <td>...</td>\n",
       "      <td>78</td>\n",
       "      <td>64</td>\n",
       "      <td>357</td>\n",
       "      <td>679</td>\n",
       "      <td>7</td>\n",
       "      <td>407</td>\n",
       "      <td>168</td>\n",
       "      <td>2392</td>\n",
       "      <td>1332</td>\n",
       "      <td>62</td>\n",
       "    </tr>\n",
       "  </tbody>\n",
       "</table>\n",
       "<p>1 rows × 169 columns</p>\n",
       "</div>"
      ],
      "text/plain": [
       "                 Instant food products  UHT-milk  abrasive cleaner  \\\n",
       "times_purchased                     76       319                34   \n",
       "\n",
       "                 artif. sweetener  baby cosmetics  baby food  bags  \\\n",
       "times_purchased                31               5          1     2   \n",
       "\n",
       "                 baking powder  bathroom cleaner  beef  ...  turkey  vinegar  \\\n",
       "times_purchased            171                24   490  ...      78       64   \n",
       "\n",
       "                 waffles  whipped/sour cream  whisky  white bread  white wine  \\\n",
       "times_purchased      357                 679       7          407         168   \n",
       "\n",
       "                 whole milk  yogurt  zwieback  \n",
       "times_purchased        2392    1332        62  \n",
       "\n",
       "[1 rows x 169 columns]"
      ]
     },
     "execution_count": 5,
     "metadata": {},
     "output_type": "execute_result"
    }
   ],
   "source": [
    "count_df.head()"
   ]
  },
  {
   "cell_type": "code",
   "execution_count": 6,
   "metadata": {},
   "outputs": [
    {
     "data": {
      "text/html": [
       "<div>\n",
       "<style scoped>\n",
       "    .dataframe tbody tr th:only-of-type {\n",
       "        vertical-align: middle;\n",
       "    }\n",
       "\n",
       "    .dataframe tbody tr th {\n",
       "        vertical-align: top;\n",
       "    }\n",
       "\n",
       "    .dataframe thead th {\n",
       "        text-align: right;\n",
       "    }\n",
       "</style>\n",
       "<table border=\"1\" class=\"dataframe\">\n",
       "  <thead>\n",
       "    <tr style=\"text-align: right;\">\n",
       "      <th></th>\n",
       "      <th>item</th>\n",
       "      <th>times_purchased</th>\n",
       "      <th>percentage</th>\n",
       "    </tr>\n",
       "  </thead>\n",
       "  <tbody>\n",
       "    <tr>\n",
       "      <th>0</th>\n",
       "      <td>whole milk</td>\n",
       "      <td>2392</td>\n",
       "      <td>31.16</td>\n",
       "    </tr>\n",
       "    <tr>\n",
       "      <th>1</th>\n",
       "      <td>other vegetables</td>\n",
       "      <td>1841</td>\n",
       "      <td>23.98</td>\n",
       "    </tr>\n",
       "    <tr>\n",
       "      <th>2</th>\n",
       "      <td>rolls/buns</td>\n",
       "      <td>1700</td>\n",
       "      <td>22.15</td>\n",
       "    </tr>\n",
       "    <tr>\n",
       "      <th>3</th>\n",
       "      <td>soda</td>\n",
       "      <td>1559</td>\n",
       "      <td>20.31</td>\n",
       "    </tr>\n",
       "    <tr>\n",
       "      <th>4</th>\n",
       "      <td>yogurt</td>\n",
       "      <td>1332</td>\n",
       "      <td>17.35</td>\n",
       "    </tr>\n",
       "    <tr>\n",
       "      <th>...</th>\n",
       "      <td>...</td>\n",
       "      <td>...</td>\n",
       "      <td>...</td>\n",
       "    </tr>\n",
       "    <tr>\n",
       "      <th>164</th>\n",
       "      <td>kitchen utensil</td>\n",
       "      <td>3</td>\n",
       "      <td>0.04</td>\n",
       "    </tr>\n",
       "    <tr>\n",
       "      <th>165</th>\n",
       "      <td>preservation products</td>\n",
       "      <td>2</td>\n",
       "      <td>0.03</td>\n",
       "    </tr>\n",
       "    <tr>\n",
       "      <th>166</th>\n",
       "      <td>bags</td>\n",
       "      <td>2</td>\n",
       "      <td>0.03</td>\n",
       "    </tr>\n",
       "    <tr>\n",
       "      <th>167</th>\n",
       "      <td>sound storage medium</td>\n",
       "      <td>1</td>\n",
       "      <td>0.01</td>\n",
       "    </tr>\n",
       "    <tr>\n",
       "      <th>168</th>\n",
       "      <td>baby food</td>\n",
       "      <td>1</td>\n",
       "      <td>0.01</td>\n",
       "    </tr>\n",
       "  </tbody>\n",
       "</table>\n",
       "<p>169 rows × 3 columns</p>\n",
       "</div>"
      ],
      "text/plain": [
       "                      item  times_purchased  percentage\n",
       "0               whole milk             2392       31.16\n",
       "1         other vegetables             1841       23.98\n",
       "2               rolls/buns             1700       22.15\n",
       "3                     soda             1559       20.31\n",
       "4                   yogurt             1332       17.35\n",
       "..                     ...              ...         ...\n",
       "164        kitchen utensil                3        0.04\n",
       "165  preservation products                2        0.03\n",
       "166                   bags                2        0.03\n",
       "167   sound storage medium                1        0.01\n",
       "168              baby food                1        0.01\n",
       "\n",
       "[169 rows x 3 columns]"
      ]
     },
     "execution_count": 6,
     "metadata": {},
     "output_type": "execute_result"
    }
   ],
   "source": [
    "sorted_df = pd.DataFrame(count_df.sort_values(by=['times_purchased'],axis=1,ascending=False).transpose())\n",
    "sorted_df = sorted_df.reset_index()\n",
    "sorted_df = sorted_df.rename(columns={'index': 'item'})\n",
    "sorted_df['percentage'] = round(sorted_df[\"times_purchased\"]/df.shape[0]*100, 2)\n",
    "sorted_df"
   ]
  },
  {
   "cell_type": "markdown",
   "metadata": {},
   "source": [
    "Hemos visto algunos elementos poco comunes que pueden unificarse en una misma categoría. Esto se va a hacer para que puedan tenerse en cuenta al aplicar el algoritmo apriori sin necesidad de bajar tanto el suport mínimo a tener en cuenta y, por tanto, puedan encontrar alguna regla más. "
   ]
  },
  {
   "cell_type": "code",
   "execution_count": 7,
   "metadata": {},
   "outputs": [
    {
     "data": {
      "application/vnd.plotly.v1+json": {
       "config": {
        "plotlyServerURL": "https://plot.ly"
       },
       "data": [
        {
         "branchvalues": "total",
         "customdata": [
          [
           "bottled beer",
           8.75
          ],
          [
           "bottled water",
           13.29
          ],
          [
           "brown bread",
           8.05
          ],
          [
           "citrus fruit",
           10.4
          ],
          [
           "domestic eggs",
           7.99
          ],
          [
           "fruit/vegetable juice",
           8.98
          ],
          [
           "margarine",
           7.41
          ],
          [
           "newspapers",
           9.52
          ],
          [
           "other vegetables",
           23.979999999999997
          ],
          [
           "pastry",
           10.92
          ],
          [
           "pip fruit",
           9.33
          ],
          [
           "rolls/buns",
           22.15
          ],
          [
           "root vegetables",
           13.64
          ],
          [
           "sausage",
           11.72
          ],
          [
           "shopping bags",
           12
          ],
          [
           "soda",
           20.31
          ],
          [
           "tropical fruit",
           13.14
          ],
          [
           "whipped/sour cream",
           8.85
          ],
          [
           "whole milk",
           31.16
          ],
          [
           "yogurt",
           17.35
          ],
          [
           "(?)",
           16.32698966312188
          ]
         ],
         "domain": {
          "x": [
           0,
           1
          ],
          "y": [
           0,
           1
          ]
         },
         "hovertemplate": "labels=%{label}<br>percentage=%{value}<br>parent=%{parent}<br>id=%{id}<br>item=%{customdata[0]}<br>color=%{color}<extra></extra>",
         "ids": [
          "most_common/bottled beer",
          "most_common/bottled water",
          "most_common/brown bread",
          "most_common/citrus fruit",
          "most_common/domestic eggs",
          "most_common/fruit/vegetable juice",
          "most_common/margarine",
          "most_common/newspapers",
          "most_common/other vegetables",
          "most_common/pastry",
          "most_common/pip fruit",
          "most_common/rolls/buns",
          "most_common/root vegetables",
          "most_common/sausage",
          "most_common/shopping bags",
          "most_common/soda",
          "most_common/tropical fruit",
          "most_common/whipped/sour cream",
          "most_common/whole milk",
          "most_common/yogurt",
          "most_common"
         ],
         "labels": [
          "bottled beer",
          "bottled water",
          "brown bread",
          "citrus fruit",
          "domestic eggs",
          "fruit/vegetable juice",
          "margarine",
          "newspapers",
          "other vegetables",
          "pastry",
          "pip fruit",
          "rolls/buns",
          "root vegetables",
          "sausage",
          "shopping bags",
          "soda",
          "tropical fruit",
          "whipped/sour cream",
          "whole milk",
          "yogurt",
          "most_common"
         ],
         "marker": {
          "coloraxis": "coloraxis",
          "colors": [
           8.75,
           13.29,
           8.05,
           10.4,
           7.99,
           8.98,
           7.41,
           9.52,
           23.979999999999997,
           10.92,
           9.33,
           22.15,
           13.64,
           11.72,
           12,
           20.31,
           13.14,
           8.85,
           31.16,
           17.35,
           16.32698966312188
          ]
         },
         "name": "",
         "parents": [
          "most_common",
          "most_common",
          "most_common",
          "most_common",
          "most_common",
          "most_common",
          "most_common",
          "most_common",
          "most_common",
          "most_common",
          "most_common",
          "most_common",
          "most_common",
          "most_common",
          "most_common",
          "most_common",
          "most_common",
          "most_common",
          "most_common",
          "most_common",
          ""
         ],
         "type": "treemap",
         "values": [
          8.75,
          13.29,
          8.05,
          10.4,
          7.99,
          8.98,
          7.41,
          9.52,
          23.98,
          10.92,
          9.33,
          22.15,
          13.64,
          11.72,
          12,
          20.31,
          13.14,
          8.85,
          31.16,
          17.35,
          268.94
         ]
        }
       ],
       "layout": {
        "coloraxis": {
         "colorbar": {
          "title": {
           "text": "color"
          }
         },
         "colorscale": [
          [
           0,
           "rgb(252,251,253)"
          ],
          [
           0.125,
           "rgb(239,237,245)"
          ],
          [
           0.25,
           "rgb(218,218,235)"
          ],
          [
           0.375,
           "rgb(188,189,220)"
          ],
          [
           0.5,
           "rgb(158,154,200)"
          ],
          [
           0.625,
           "rgb(128,125,186)"
          ],
          [
           0.75,
           "rgb(106,81,163)"
          ],
          [
           0.875,
           "rgb(84,39,143)"
          ],
          [
           1,
           "rgb(63,0,125)"
          ]
         ]
        },
        "legend": {
         "tracegroupgap": 0
        },
        "margin": {
         "t": 60
        },
        "template": {
         "data": {
          "bar": [
           {
            "error_x": {
             "color": "#2a3f5f"
            },
            "error_y": {
             "color": "#2a3f5f"
            },
            "marker": {
             "line": {
              "color": "#E5ECF6",
              "width": 0.5
             },
             "pattern": {
              "fillmode": "overlay",
              "size": 10,
              "solidity": 0.2
             }
            },
            "type": "bar"
           }
          ],
          "barpolar": [
           {
            "marker": {
             "line": {
              "color": "#E5ECF6",
              "width": 0.5
             },
             "pattern": {
              "fillmode": "overlay",
              "size": 10,
              "solidity": 0.2
             }
            },
            "type": "barpolar"
           }
          ],
          "carpet": [
           {
            "aaxis": {
             "endlinecolor": "#2a3f5f",
             "gridcolor": "white",
             "linecolor": "white",
             "minorgridcolor": "white",
             "startlinecolor": "#2a3f5f"
            },
            "baxis": {
             "endlinecolor": "#2a3f5f",
             "gridcolor": "white",
             "linecolor": "white",
             "minorgridcolor": "white",
             "startlinecolor": "#2a3f5f"
            },
            "type": "carpet"
           }
          ],
          "choropleth": [
           {
            "colorbar": {
             "outlinewidth": 0,
             "ticks": ""
            },
            "type": "choropleth"
           }
          ],
          "contour": [
           {
            "colorbar": {
             "outlinewidth": 0,
             "ticks": ""
            },
            "colorscale": [
             [
              0,
              "#0d0887"
             ],
             [
              0.1111111111111111,
              "#46039f"
             ],
             [
              0.2222222222222222,
              "#7201a8"
             ],
             [
              0.3333333333333333,
              "#9c179e"
             ],
             [
              0.4444444444444444,
              "#bd3786"
             ],
             [
              0.5555555555555556,
              "#d8576b"
             ],
             [
              0.6666666666666666,
              "#ed7953"
             ],
             [
              0.7777777777777778,
              "#fb9f3a"
             ],
             [
              0.8888888888888888,
              "#fdca26"
             ],
             [
              1,
              "#f0f921"
             ]
            ],
            "type": "contour"
           }
          ],
          "contourcarpet": [
           {
            "colorbar": {
             "outlinewidth": 0,
             "ticks": ""
            },
            "type": "contourcarpet"
           }
          ],
          "heatmap": [
           {
            "colorbar": {
             "outlinewidth": 0,
             "ticks": ""
            },
            "colorscale": [
             [
              0,
              "#0d0887"
             ],
             [
              0.1111111111111111,
              "#46039f"
             ],
             [
              0.2222222222222222,
              "#7201a8"
             ],
             [
              0.3333333333333333,
              "#9c179e"
             ],
             [
              0.4444444444444444,
              "#bd3786"
             ],
             [
              0.5555555555555556,
              "#d8576b"
             ],
             [
              0.6666666666666666,
              "#ed7953"
             ],
             [
              0.7777777777777778,
              "#fb9f3a"
             ],
             [
              0.8888888888888888,
              "#fdca26"
             ],
             [
              1,
              "#f0f921"
             ]
            ],
            "type": "heatmap"
           }
          ],
          "heatmapgl": [
           {
            "colorbar": {
             "outlinewidth": 0,
             "ticks": ""
            },
            "colorscale": [
             [
              0,
              "#0d0887"
             ],
             [
              0.1111111111111111,
              "#46039f"
             ],
             [
              0.2222222222222222,
              "#7201a8"
             ],
             [
              0.3333333333333333,
              "#9c179e"
             ],
             [
              0.4444444444444444,
              "#bd3786"
             ],
             [
              0.5555555555555556,
              "#d8576b"
             ],
             [
              0.6666666666666666,
              "#ed7953"
             ],
             [
              0.7777777777777778,
              "#fb9f3a"
             ],
             [
              0.8888888888888888,
              "#fdca26"
             ],
             [
              1,
              "#f0f921"
             ]
            ],
            "type": "heatmapgl"
           }
          ],
          "histogram": [
           {
            "marker": {
             "pattern": {
              "fillmode": "overlay",
              "size": 10,
              "solidity": 0.2
             }
            },
            "type": "histogram"
           }
          ],
          "histogram2d": [
           {
            "colorbar": {
             "outlinewidth": 0,
             "ticks": ""
            },
            "colorscale": [
             [
              0,
              "#0d0887"
             ],
             [
              0.1111111111111111,
              "#46039f"
             ],
             [
              0.2222222222222222,
              "#7201a8"
             ],
             [
              0.3333333333333333,
              "#9c179e"
             ],
             [
              0.4444444444444444,
              "#bd3786"
             ],
             [
              0.5555555555555556,
              "#d8576b"
             ],
             [
              0.6666666666666666,
              "#ed7953"
             ],
             [
              0.7777777777777778,
              "#fb9f3a"
             ],
             [
              0.8888888888888888,
              "#fdca26"
             ],
             [
              1,
              "#f0f921"
             ]
            ],
            "type": "histogram2d"
           }
          ],
          "histogram2dcontour": [
           {
            "colorbar": {
             "outlinewidth": 0,
             "ticks": ""
            },
            "colorscale": [
             [
              0,
              "#0d0887"
             ],
             [
              0.1111111111111111,
              "#46039f"
             ],
             [
              0.2222222222222222,
              "#7201a8"
             ],
             [
              0.3333333333333333,
              "#9c179e"
             ],
             [
              0.4444444444444444,
              "#bd3786"
             ],
             [
              0.5555555555555556,
              "#d8576b"
             ],
             [
              0.6666666666666666,
              "#ed7953"
             ],
             [
              0.7777777777777778,
              "#fb9f3a"
             ],
             [
              0.8888888888888888,
              "#fdca26"
             ],
             [
              1,
              "#f0f921"
             ]
            ],
            "type": "histogram2dcontour"
           }
          ],
          "mesh3d": [
           {
            "colorbar": {
             "outlinewidth": 0,
             "ticks": ""
            },
            "type": "mesh3d"
           }
          ],
          "parcoords": [
           {
            "line": {
             "colorbar": {
              "outlinewidth": 0,
              "ticks": ""
             }
            },
            "type": "parcoords"
           }
          ],
          "pie": [
           {
            "automargin": true,
            "type": "pie"
           }
          ],
          "scatter": [
           {
            "fillpattern": {
             "fillmode": "overlay",
             "size": 10,
             "solidity": 0.2
            },
            "type": "scatter"
           }
          ],
          "scatter3d": [
           {
            "line": {
             "colorbar": {
              "outlinewidth": 0,
              "ticks": ""
             }
            },
            "marker": {
             "colorbar": {
              "outlinewidth": 0,
              "ticks": ""
             }
            },
            "type": "scatter3d"
           }
          ],
          "scattercarpet": [
           {
            "marker": {
             "colorbar": {
              "outlinewidth": 0,
              "ticks": ""
             }
            },
            "type": "scattercarpet"
           }
          ],
          "scattergeo": [
           {
            "marker": {
             "colorbar": {
              "outlinewidth": 0,
              "ticks": ""
             }
            },
            "type": "scattergeo"
           }
          ],
          "scattergl": [
           {
            "marker": {
             "colorbar": {
              "outlinewidth": 0,
              "ticks": ""
             }
            },
            "type": "scattergl"
           }
          ],
          "scattermapbox": [
           {
            "marker": {
             "colorbar": {
              "outlinewidth": 0,
              "ticks": ""
             }
            },
            "type": "scattermapbox"
           }
          ],
          "scatterpolar": [
           {
            "marker": {
             "colorbar": {
              "outlinewidth": 0,
              "ticks": ""
             }
            },
            "type": "scatterpolar"
           }
          ],
          "scatterpolargl": [
           {
            "marker": {
             "colorbar": {
              "outlinewidth": 0,
              "ticks": ""
             }
            },
            "type": "scatterpolargl"
           }
          ],
          "scatterternary": [
           {
            "marker": {
             "colorbar": {
              "outlinewidth": 0,
              "ticks": ""
             }
            },
            "type": "scatterternary"
           }
          ],
          "surface": [
           {
            "colorbar": {
             "outlinewidth": 0,
             "ticks": ""
            },
            "colorscale": [
             [
              0,
              "#0d0887"
             ],
             [
              0.1111111111111111,
              "#46039f"
             ],
             [
              0.2222222222222222,
              "#7201a8"
             ],
             [
              0.3333333333333333,
              "#9c179e"
             ],
             [
              0.4444444444444444,
              "#bd3786"
             ],
             [
              0.5555555555555556,
              "#d8576b"
             ],
             [
              0.6666666666666666,
              "#ed7953"
             ],
             [
              0.7777777777777778,
              "#fb9f3a"
             ],
             [
              0.8888888888888888,
              "#fdca26"
             ],
             [
              1,
              "#f0f921"
             ]
            ],
            "type": "surface"
           }
          ],
          "table": [
           {
            "cells": {
             "fill": {
              "color": "#EBF0F8"
             },
             "line": {
              "color": "white"
             }
            },
            "header": {
             "fill": {
              "color": "#C8D4E3"
             },
             "line": {
              "color": "white"
             }
            },
            "type": "table"
           }
          ]
         },
         "layout": {
          "annotationdefaults": {
           "arrowcolor": "#2a3f5f",
           "arrowhead": 0,
           "arrowwidth": 1
          },
          "autotypenumbers": "strict",
          "coloraxis": {
           "colorbar": {
            "outlinewidth": 0,
            "ticks": ""
           }
          },
          "colorscale": {
           "diverging": [
            [
             0,
             "#8e0152"
            ],
            [
             0.1,
             "#c51b7d"
            ],
            [
             0.2,
             "#de77ae"
            ],
            [
             0.3,
             "#f1b6da"
            ],
            [
             0.4,
             "#fde0ef"
            ],
            [
             0.5,
             "#f7f7f7"
            ],
            [
             0.6,
             "#e6f5d0"
            ],
            [
             0.7,
             "#b8e186"
            ],
            [
             0.8,
             "#7fbc41"
            ],
            [
             0.9,
             "#4d9221"
            ],
            [
             1,
             "#276419"
            ]
           ],
           "sequential": [
            [
             0,
             "#0d0887"
            ],
            [
             0.1111111111111111,
             "#46039f"
            ],
            [
             0.2222222222222222,
             "#7201a8"
            ],
            [
             0.3333333333333333,
             "#9c179e"
            ],
            [
             0.4444444444444444,
             "#bd3786"
            ],
            [
             0.5555555555555556,
             "#d8576b"
            ],
            [
             0.6666666666666666,
             "#ed7953"
            ],
            [
             0.7777777777777778,
             "#fb9f3a"
            ],
            [
             0.8888888888888888,
             "#fdca26"
            ],
            [
             1,
             "#f0f921"
            ]
           ],
           "sequentialminus": [
            [
             0,
             "#0d0887"
            ],
            [
             0.1111111111111111,
             "#46039f"
            ],
            [
             0.2222222222222222,
             "#7201a8"
            ],
            [
             0.3333333333333333,
             "#9c179e"
            ],
            [
             0.4444444444444444,
             "#bd3786"
            ],
            [
             0.5555555555555556,
             "#d8576b"
            ],
            [
             0.6666666666666666,
             "#ed7953"
            ],
            [
             0.7777777777777778,
             "#fb9f3a"
            ],
            [
             0.8888888888888888,
             "#fdca26"
            ],
            [
             1,
             "#f0f921"
            ]
           ]
          },
          "colorway": [
           "#636efa",
           "#EF553B",
           "#00cc96",
           "#ab63fa",
           "#FFA15A",
           "#19d3f3",
           "#FF6692",
           "#B6E880",
           "#FF97FF",
           "#FECB52"
          ],
          "font": {
           "color": "#2a3f5f"
          },
          "geo": {
           "bgcolor": "white",
           "lakecolor": "white",
           "landcolor": "#E5ECF6",
           "showlakes": true,
           "showland": true,
           "subunitcolor": "white"
          },
          "hoverlabel": {
           "align": "left"
          },
          "hovermode": "closest",
          "mapbox": {
           "style": "light"
          },
          "paper_bgcolor": "white",
          "plot_bgcolor": "#E5ECF6",
          "polar": {
           "angularaxis": {
            "gridcolor": "white",
            "linecolor": "white",
            "ticks": ""
           },
           "bgcolor": "#E5ECF6",
           "radialaxis": {
            "gridcolor": "white",
            "linecolor": "white",
            "ticks": ""
           }
          },
          "scene": {
           "xaxis": {
            "backgroundcolor": "#E5ECF6",
            "gridcolor": "white",
            "gridwidth": 2,
            "linecolor": "white",
            "showbackground": true,
            "ticks": "",
            "zerolinecolor": "white"
           },
           "yaxis": {
            "backgroundcolor": "#E5ECF6",
            "gridcolor": "white",
            "gridwidth": 2,
            "linecolor": "white",
            "showbackground": true,
            "ticks": "",
            "zerolinecolor": "white"
           },
           "zaxis": {
            "backgroundcolor": "#E5ECF6",
            "gridcolor": "white",
            "gridwidth": 2,
            "linecolor": "white",
            "showbackground": true,
            "ticks": "",
            "zerolinecolor": "white"
           }
          },
          "shapedefaults": {
           "line": {
            "color": "#2a3f5f"
           }
          },
          "ternary": {
           "aaxis": {
            "gridcolor": "white",
            "linecolor": "white",
            "ticks": ""
           },
           "baxis": {
            "gridcolor": "white",
            "linecolor": "white",
            "ticks": ""
           },
           "bgcolor": "#E5ECF6",
           "caxis": {
            "gridcolor": "white",
            "linecolor": "white",
            "ticks": ""
           }
          },
          "title": {
           "x": 0.05
          },
          "xaxis": {
           "automargin": true,
           "gridcolor": "white",
           "linecolor": "white",
           "ticks": "",
           "title": {
            "standoff": 15
           },
           "zerolinecolor": "white",
           "zerolinewidth": 2
          },
          "yaxis": {
           "automargin": true,
           "gridcolor": "white",
           "linecolor": "white",
           "ticks": "",
           "title": {
            "standoff": 15
           },
           "zerolinecolor": "white",
           "zerolinewidth": 2
          }
         }
        }
       }
      }
     },
     "metadata": {},
     "output_type": "display_data"
    }
   ],
   "source": [
    "df_table = sorted_df.copy()\n",
    "df_table[\"most_common\"] = \"most_common\" \n",
    "\n",
    "fig = px.treemap(df_table.head(20), path=['most_common', \"item\"], values='percentage',\n",
    "                  color=df_table[\"percentage\"].head(20), hover_data=['item'],\n",
    "                  color_continuous_scale='Purples',\n",
    "                  )\n",
    "fig.show()"
   ]
  },
  {
   "cell_type": "code",
   "execution_count": 8,
   "metadata": {},
   "outputs": [],
   "source": [
    "df_table = df_table.drop(columns=[\"most_common\"])\n"
   ]
  },
  {
   "cell_type": "code",
   "execution_count": 9,
   "metadata": {},
   "outputs": [
    {
     "data": {
      "text/html": [
       "<div>\n",
       "<style scoped>\n",
       "    .dataframe tbody tr th:only-of-type {\n",
       "        vertical-align: middle;\n",
       "    }\n",
       "\n",
       "    .dataframe tbody tr th {\n",
       "        vertical-align: top;\n",
       "    }\n",
       "\n",
       "    .dataframe thead th {\n",
       "        text-align: right;\n",
       "    }\n",
       "</style>\n",
       "<table border=\"1\" class=\"dataframe\">\n",
       "  <thead>\n",
       "    <tr style=\"text-align: right;\">\n",
       "      <th></th>\n",
       "      <th>item</th>\n",
       "      <th>times_purchased</th>\n",
       "      <th>percentage</th>\n",
       "    </tr>\n",
       "  </thead>\n",
       "  <tbody>\n",
       "    <tr>\n",
       "      <th>98</th>\n",
       "      <td>Instant food products</td>\n",
       "      <td>76</td>\n",
       "      <td>0.99</td>\n",
       "    </tr>\n",
       "    <tr>\n",
       "      <th>99</th>\n",
       "      <td>rice</td>\n",
       "      <td>75</td>\n",
       "      <td>0.98</td>\n",
       "    </tr>\n",
       "    <tr>\n",
       "      <th>100</th>\n",
       "      <td>liquor (appetizer)</td>\n",
       "      <td>73</td>\n",
       "      <td>0.95</td>\n",
       "    </tr>\n",
       "    <tr>\n",
       "      <th>101</th>\n",
       "      <td>instant coffee</td>\n",
       "      <td>69</td>\n",
       "      <td>0.90</td>\n",
       "    </tr>\n",
       "    <tr>\n",
       "      <th>102</th>\n",
       "      <td>popcorn</td>\n",
       "      <td>69</td>\n",
       "      <td>0.90</td>\n",
       "    </tr>\n",
       "    <tr>\n",
       "      <th>...</th>\n",
       "      <td>...</td>\n",
       "      <td>...</td>\n",
       "      <td>...</td>\n",
       "    </tr>\n",
       "    <tr>\n",
       "      <th>164</th>\n",
       "      <td>kitchen utensil</td>\n",
       "      <td>3</td>\n",
       "      <td>0.04</td>\n",
       "    </tr>\n",
       "    <tr>\n",
       "      <th>165</th>\n",
       "      <td>preservation products</td>\n",
       "      <td>2</td>\n",
       "      <td>0.03</td>\n",
       "    </tr>\n",
       "    <tr>\n",
       "      <th>166</th>\n",
       "      <td>bags</td>\n",
       "      <td>2</td>\n",
       "      <td>0.03</td>\n",
       "    </tr>\n",
       "    <tr>\n",
       "      <th>167</th>\n",
       "      <td>sound storage medium</td>\n",
       "      <td>1</td>\n",
       "      <td>0.01</td>\n",
       "    </tr>\n",
       "    <tr>\n",
       "      <th>168</th>\n",
       "      <td>baby food</td>\n",
       "      <td>1</td>\n",
       "      <td>0.01</td>\n",
       "    </tr>\n",
       "  </tbody>\n",
       "</table>\n",
       "<p>71 rows × 3 columns</p>\n",
       "</div>"
      ],
      "text/plain": [
       "                      item  times_purchased  percentage\n",
       "98   Instant food products               76        0.99\n",
       "99                    rice               75        0.98\n",
       "100     liquor (appetizer)               73        0.95\n",
       "101         instant coffee               69        0.90\n",
       "102                popcorn               69        0.90\n",
       "..                     ...              ...         ...\n",
       "164        kitchen utensil                3        0.04\n",
       "165  preservation products                2        0.03\n",
       "166                   bags                2        0.03\n",
       "167   sound storage medium                1        0.01\n",
       "168              baby food                1        0.01\n",
       "\n",
       "[71 rows x 3 columns]"
      ]
     },
     "execution_count": 9,
     "metadata": {},
     "output_type": "execute_result"
    }
   ],
   "source": [
    "df_table[df_table[\"percentage\"] < 1]"
   ]
  },
  {
   "cell_type": "code",
   "execution_count": 10,
   "metadata": {},
   "outputs": [],
   "source": [
    "df[\"beer\"] = df[\"canned beer\"] | df [\"bottled beer\"]\n",
    "df[\"whine\"] = df[\"white wine\"] | df[\"red/blush wine\"] | df[\"sparkling wine\"] | df[\"prosecco\"]\n",
    "df[\"pet items\"] = df[\"cat food\"] | df [\"dog food\"] | df[\"pet care\"]\n",
    "df[\"sauce\"] = df[\"sauces\"] | df [\"ketchup\"] | df[\"mayonnaise\"] | df [\"mustard\"]\n",
    "df[\"alcoholic beverages\"] = df[\"liqueur\"] | df[\"liquor\"] | df[\"liquor (appetizer)\"] | df[\"whisky\"] | df[\"brandy\"]\n",
    "df[\"cheese\"] = df[\"curd cheese\"] | df[\"hard cheese\"] | df[\"soft cheese\"] | df[\"sliced cheese\"] | df[\"spread cheese\"] | df[\"processed cheese\"] | df[\"specialty cheese\"]\n",
    "df[\"coffee\"] = df[\"coffee\"] | df[\"instant coffee\"]\n",
    "df[\"vegetables\"] = df[\"root vegetables\"] | df [\"other vegetables\"] | df[\"specialty vegetables\"]\n",
    "df[\"fruits\"] = df[\"canned fruit\"] | df[\"citrus fruit\"] | df[\"frozen fruits\"] | df[\"pip fruit\"] | df[\"tropical fruit\"]\n",
    "\n",
    "columnas_a_eliminar = [\"canned beer\", \"bottled beer\", \"white wine\", \"red/blush wine\", \"sparkling wine\", \"prosecco\", \"cat food\", \"dog food\", \"pet care\", \"sauces\", \"ketchup\", \"mayonnaise\", \"mustard\", \"liqueur\", \"liquor\", \"liquor (appetizer)\", \"whisky\", \"brandy\", \"curd cheese\", \"hard cheese\", \"soft cheese\", \"sliced cheese\", \"spread cheese\", \"processed cheese\", \"specialty cheese\", \"coffee\", \"instant coffee\"]\n",
    "columns_to_drop = [\"root vegetables\", \"other vegetables\", \"specialty vegetables\", \"canned fruit\", \"citrus fruit\", \"frozen fruits\", \"pip fruit\", \"tropical fruit\"]\n",
    "\n",
    "# Reasignar las columnas originales\n",
    "df.drop(columns=columns_to_drop, inplace=True)\n",
    "df = df.drop(columns=columnas_a_eliminar)"
   ]
  },
  {
   "cell_type": "code",
   "execution_count": 17,
   "metadata": {},
   "outputs": [],
   "source": [
    "purchased = []\n",
    "for i in df.columns:\n",
    "    purchased.append(list(df[i].value_counts())[1])\n",
    "\n",
    "count_df = pd.DataFrame([purchased], columns=df.copy().columns)\n",
    "count_df.index = ['times_purchased']\n"
   ]
  },
  {
   "cell_type": "code",
   "execution_count": 20,
   "metadata": {},
   "outputs": [
    {
     "data": {
      "text/plain": [
       "(58, 3)"
      ]
     },
     "execution_count": 20,
     "metadata": {},
     "output_type": "execute_result"
    }
   ],
   "source": [
    "sorted_df = pd.DataFrame(count_df.sort_values(by=['times_purchased'],axis=1,ascending=False).transpose())\n",
    "sorted_df = sorted_df.reset_index()\n",
    "sorted_df = sorted_df.rename(columns={'index': 'item'})\n",
    "sorted_df['percentage'] = round(sorted_df[\"times_purchased\"]/df.shape[0]*100, 2)\n",
    "sorted_df\n",
    "sorted_df[sorted_df[\"percentage\"] < 1].shape"
   ]
  },
  {
   "cell_type": "markdown",
   "metadata": {},
   "source": [
    "# Generación de reglas"
   ]
  },
  {
   "cell_type": "markdown",
   "metadata": {},
   "source": [
    "Primero vamos a aplicar el algoritmo con un support mínimo de 0.01 y un lift mínimo de 2.5. A continuación, vamos a filtrar todos los resultados en orden \n",
    "descendente por leverage para juntar las relaciones que sean simétricas y eliminarlas.\n",
    "Con esto vamos a buscar reglas que relacionen productos con una fiabilidad bastante alta.\n",
    " "
   ]
  },
  {
   "cell_type": "code",
   "execution_count": 11,
   "metadata": {},
   "outputs": [
    {
     "data": {
      "text/html": [
       "<div>\n",
       "<style scoped>\n",
       "    .dataframe tbody tr th:only-of-type {\n",
       "        vertical-align: middle;\n",
       "    }\n",
       "\n",
       "    .dataframe tbody tr th {\n",
       "        vertical-align: top;\n",
       "    }\n",
       "\n",
       "    .dataframe thead th {\n",
       "        text-align: right;\n",
       "    }\n",
       "</style>\n",
       "<table border=\"1\" class=\"dataframe\">\n",
       "  <thead>\n",
       "    <tr style=\"text-align: right;\">\n",
       "      <th></th>\n",
       "      <th>antecedents</th>\n",
       "      <th>consequents</th>\n",
       "      <th>antecedent support</th>\n",
       "      <th>consequent support</th>\n",
       "      <th>support</th>\n",
       "      <th>confidence</th>\n",
       "      <th>lift</th>\n",
       "      <th>leverage</th>\n",
       "      <th>conviction</th>\n",
       "      <th>zhangs_metric</th>\n",
       "    </tr>\n",
       "  </thead>\n",
       "  <tbody>\n",
       "    <tr>\n",
       "      <th>0</th>\n",
       "      <td>(yogurt, vegetables)</td>\n",
       "      <td>(fruits, whole milk)</td>\n",
       "      <td>0.072564</td>\n",
       "      <td>0.106305</td>\n",
       "      <td>0.020584</td>\n",
       "      <td>0.283662</td>\n",
       "      <td>2.668374</td>\n",
       "      <td>0.012870</td>\n",
       "      <td>1.247589</td>\n",
       "      <td>0.674160</td>\n",
       "    </tr>\n",
       "    <tr>\n",
       "      <th>1</th>\n",
       "      <td>(yogurt, vegetables)</td>\n",
       "      <td>(whipped/sour cream)</td>\n",
       "      <td>0.072564</td>\n",
       "      <td>0.088458</td>\n",
       "      <td>0.016936</td>\n",
       "      <td>0.233393</td>\n",
       "      <td>2.638477</td>\n",
       "      <td>0.010517</td>\n",
       "      <td>1.189061</td>\n",
       "      <td>0.669581</td>\n",
       "    </tr>\n",
       "    <tr>\n",
       "      <th>2</th>\n",
       "      <td>(alcoholic beverages)</td>\n",
       "      <td>(beer)</td>\n",
       "      <td>0.027749</td>\n",
       "      <td>0.149818</td>\n",
       "      <td>0.013679</td>\n",
       "      <td>0.492958</td>\n",
       "      <td>3.290386</td>\n",
       "      <td>0.009522</td>\n",
       "      <td>1.676749</td>\n",
       "      <td>0.715951</td>\n",
       "    </tr>\n",
       "    <tr>\n",
       "      <th>3</th>\n",
       "      <td>(whipped/sour cream, fruits)</td>\n",
       "      <td>(vegetables, whole milk)</td>\n",
       "      <td>0.034523</td>\n",
       "      <td>0.129104</td>\n",
       "      <td>0.013158</td>\n",
       "      <td>0.381132</td>\n",
       "      <td>2.952139</td>\n",
       "      <td>0.008701</td>\n",
       "      <td>1.407241</td>\n",
       "      <td>0.684908</td>\n",
       "    </tr>\n",
       "    <tr>\n",
       "      <th>4</th>\n",
       "      <td>(whipped/sour cream, whole milk)</td>\n",
       "      <td>(fruits, vegetables)</td>\n",
       "      <td>0.041298</td>\n",
       "      <td>0.116206</td>\n",
       "      <td>0.013158</td>\n",
       "      <td>0.318612</td>\n",
       "      <td>2.741778</td>\n",
       "      <td>0.008359</td>\n",
       "      <td>1.297049</td>\n",
       "      <td>0.662638</td>\n",
       "    </tr>\n",
       "    <tr>\n",
       "      <th>5</th>\n",
       "      <td>(fruits, vegetables, whole milk)</td>\n",
       "      <td>(whipped/sour cream)</td>\n",
       "      <td>0.055237</td>\n",
       "      <td>0.088458</td>\n",
       "      <td>0.013158</td>\n",
       "      <td>0.238208</td>\n",
       "      <td>2.692903</td>\n",
       "      <td>0.008272</td>\n",
       "      <td>1.196576</td>\n",
       "      <td>0.665409</td>\n",
       "    </tr>\n",
       "    <tr>\n",
       "      <th>6</th>\n",
       "      <td>(ham)</td>\n",
       "      <td>(cheese)</td>\n",
       "      <td>0.032830</td>\n",
       "      <td>0.119724</td>\n",
       "      <td>0.012116</td>\n",
       "      <td>0.369048</td>\n",
       "      <td>3.082491</td>\n",
       "      <td>0.008185</td>\n",
       "      <td>1.395155</td>\n",
       "      <td>0.698519</td>\n",
       "    </tr>\n",
       "    <tr>\n",
       "      <th>7</th>\n",
       "      <td>(curd)</td>\n",
       "      <td>(yogurt, whole milk)</td>\n",
       "      <td>0.067092</td>\n",
       "      <td>0.071782</td>\n",
       "      <td>0.012897</td>\n",
       "      <td>0.192233</td>\n",
       "      <td>2.678005</td>\n",
       "      <td>0.008081</td>\n",
       "      <td>1.149116</td>\n",
       "      <td>0.671650</td>\n",
       "    </tr>\n",
       "    <tr>\n",
       "      <th>8</th>\n",
       "      <td>(whipped/sour cream, vegetables)</td>\n",
       "      <td>(fruits, whole milk)</td>\n",
       "      <td>0.048072</td>\n",
       "      <td>0.106305</td>\n",
       "      <td>0.013158</td>\n",
       "      <td>0.273713</td>\n",
       "      <td>2.574778</td>\n",
       "      <td>0.008048</td>\n",
       "      <td>1.230497</td>\n",
       "      <td>0.642503</td>\n",
       "    </tr>\n",
       "    <tr>\n",
       "      <th>9</th>\n",
       "      <td>(berries)</td>\n",
       "      <td>(whipped/sour cream)</td>\n",
       "      <td>0.041298</td>\n",
       "      <td>0.088458</td>\n",
       "      <td>0.011595</td>\n",
       "      <td>0.280757</td>\n",
       "      <td>3.173920</td>\n",
       "      <td>0.007942</td>\n",
       "      <td>1.267364</td>\n",
       "      <td>0.714437</td>\n",
       "    </tr>\n",
       "  </tbody>\n",
       "</table>\n",
       "</div>"
      ],
      "text/plain": [
       "                        antecedents               consequents  \\\n",
       "0              (yogurt, vegetables)      (fruits, whole milk)   \n",
       "1              (yogurt, vegetables)      (whipped/sour cream)   \n",
       "2             (alcoholic beverages)                    (beer)   \n",
       "3      (whipped/sour cream, fruits)  (vegetables, whole milk)   \n",
       "4  (whipped/sour cream, whole milk)      (fruits, vegetables)   \n",
       "5  (fruits, vegetables, whole milk)      (whipped/sour cream)   \n",
       "6                             (ham)                  (cheese)   \n",
       "7                            (curd)      (yogurt, whole milk)   \n",
       "8  (whipped/sour cream, vegetables)      (fruits, whole milk)   \n",
       "9                         (berries)      (whipped/sour cream)   \n",
       "\n",
       "   antecedent support  consequent support   support  confidence      lift  \\\n",
       "0            0.072564            0.106305  0.020584    0.283662  2.668374   \n",
       "1            0.072564            0.088458  0.016936    0.233393  2.638477   \n",
       "2            0.027749            0.149818  0.013679    0.492958  3.290386   \n",
       "3            0.034523            0.129104  0.013158    0.381132  2.952139   \n",
       "4            0.041298            0.116206  0.013158    0.318612  2.741778   \n",
       "5            0.055237            0.088458  0.013158    0.238208  2.692903   \n",
       "6            0.032830            0.119724  0.012116    0.369048  3.082491   \n",
       "7            0.067092            0.071782  0.012897    0.192233  2.678005   \n",
       "8            0.048072            0.106305  0.013158    0.273713  2.574778   \n",
       "9            0.041298            0.088458  0.011595    0.280757  3.173920   \n",
       "\n",
       "   leverage  conviction  zhangs_metric  \n",
       "0  0.012870    1.247589       0.674160  \n",
       "1  0.010517    1.189061       0.669581  \n",
       "2  0.009522    1.676749       0.715951  \n",
       "3  0.008701    1.407241       0.684908  \n",
       "4  0.008359    1.297049       0.662638  \n",
       "5  0.008272    1.196576       0.665409  \n",
       "6  0.008185    1.395155       0.698519  \n",
       "7  0.008081    1.149116       0.671650  \n",
       "8  0.008048    1.230497       0.642503  \n",
       "9  0.007942    1.267364       0.714437  "
      ]
     },
     "execution_count": 11,
     "metadata": {},
     "output_type": "execute_result"
    }
   ],
   "source": [
    "\n",
    "frequent_itemsets= apriori(df, min_support=0.01, use_colnames=True)\n",
    "rules = association_rules(frequent_itemsets, metric='lift', min_threshold=2.5)\n",
    "redundancy = rules.sort_values(by=['leverage','confidence'],axis=0, ascending=False)\n",
    "unique_rules = redundancy.iloc[::2].reset_index()\n",
    "unique_rules = unique_rules.drop(['index'], axis=1)\n",
    "unique_rules = unique_rules.head(10)\n",
    "unique_rules"
   ]
  },
  {
   "cell_type": "markdown",
   "metadata": {},
   "source": [
    "Bajamos el support mínimo a 0.005\n"
   ]
  },
  {
   "cell_type": "code",
   "execution_count": 12,
   "metadata": {},
   "outputs": [],
   "source": [
    "frequent_itemsets= apriori(df, min_support=0.005, use_colnames=True)\n",
    "rules = association_rules(frequent_itemsets, metric='lift', min_threshold=2.5)\n",
    "redundancy = rules.sort_values(by=['leverage','confidence'],axis=0, ascending=False)\n",
    "unique_rules2 = redundancy.iloc[::2].reset_index()\n",
    "unique_rules2 = unique_rules2.drop(['index'], axis=1)\n",
    "unique_rules2 = unique_rules2.head(10)"
   ]
  },
  {
   "cell_type": "markdown",
   "metadata": {},
   "source": [
    "Ahora vamos a calcular un lift menor a 1. Esto se va a hacer para buscar a ver si existen relaciones negativas, es decir, que la compra de un producto reduzca la posibilidad de de compra de otro. Esto puede ser útil para no poner ambos productos juntos ya que muy probablemente nadie los compre de manera conjunta."
   ]
  },
  {
   "cell_type": "code",
   "execution_count": 13,
   "metadata": {},
   "outputs": [],
   "source": [
    "\n",
    "frequent_itemsets= apriori(df, min_support=0.01, use_colnames=True)\n",
    "rules = association_rules(frequent_itemsets, metric='lift', min_threshold=0)\n",
    "redundancy = rules.sort_values(by=['leverage','confidence'],axis=0, ascending=True)\n",
    "unique_rules3 = redundancy.iloc[::2].reset_index()\n",
    "unique_rules3 = unique_rules3.drop(['index'], axis=1)\n",
    "unique_rules3 = unique_rules3.head(10)"
   ]
  },
  {
   "cell_type": "markdown",
   "metadata": {},
   "source": [
    "# Visualización de datos"
   ]
  },
  {
   "cell_type": "code",
   "execution_count": 14,
   "metadata": {},
   "outputs": [
    {
     "data": {
      "image/png": "[encoded data removed]",
      "text/plain": [
       "<Figure size 1200x500 with 1 Axes>"
      ]
     },
     "metadata": {},
     "output_type": "display_data"
    }
   ],
   "source": [
    "# Crear un grafo dirigido\n",
    "G = nx.DiGraph()\n",
    "\n",
    "# Agregar nodos y aristas al grafo\n",
    "for idx, row in unique_rules.iterrows():\n",
    "    antecedents = ', '.join(row['antecedents'])\n",
    "    consequents = ', '.join(row['consequents'])\n",
    "    G.add_edge(antecedents, consequents, support=row['support'], lift=row['lift'])\n",
    "\n",
    "# Dibujar el grafo\n",
    "plt.figure(figsize=(12, 5))\n",
    "node_sizes = [len(node) * 100 for node in G.nodes()]\n",
    "\n",
    "pos = nx.spring_layout(G, k=2.5, scale=50)  \n",
    "nx.draw(G, pos, with_labels=True, node_size=3000 , node_color='#c4d2e7', font_size=7, font_weight='bold', font_color='black')\n",
    "\n",
    "# Mostrar el grafo\n",
    "plt.title('Red de reglas de asociación')\n",
    "plt.show()"
   ]
  },
  {
   "cell_type": "code",
   "execution_count": 15,
   "metadata": {},
   "outputs": [
    {
     "data": {
      "image/png": "[encoded data removed]",
      "text/plain": [
       "<Figure size 1200x500 with 1 Axes>"
      ]
     },
     "metadata": {},
     "output_type": "display_data"
    }
   ],
   "source": [
    "# Crear un grafo dirigido\n",
    "G = nx.DiGraph()\n",
    "\n",
    "# Agregar nodos y aristas al grafo\n",
    "for idx, row in unique_rules2.iterrows():\n",
    "    antecedents = ', '.join(row['antecedents'])\n",
    "    consequents = ', '.join(row['consequents'])\n",
    "    G.add_edge(antecedents, consequents, support=row['support'], lift=row['lift'])\n",
    "\n",
    "# Dibujar el grafo\n",
    "plt.figure(figsize=(12, 5))\n",
    "pos = nx.spring_layout(G, k=2, scale=50)  \n",
    "nx.draw(G, pos, with_labels=True, node_size=3000, node_color='#c4d2e7', font_size=7, font_weight='bold', font_color='black')\n",
    "\n",
    "# Mostrar el grafo\n",
    "plt.title('Red de reglas de asociación')\n",
    "plt.show()"
   ]
  },
  {
   "cell_type": "code",
   "execution_count": 16,
   "metadata": {},
   "outputs": [
    {
     "data": {
      "image/png": "[encoded data removed]",
      "text/plain": [
       "<Figure size 1000x500 with 1 Axes>"
      ]
     },
     "metadata": {},
     "output_type": "display_data"
    }
   ],
   "source": [
    "# Crear un grafo dirigido\n",
    "G = nx.DiGraph()\n",
    "\n",
    "# Agregar nodos y aristas al grafo\n",
    "for idx, row in unique_rules3.iterrows():\n",
    "    antecedents = ', '.join(row['antecedents'])\n",
    "    consequents = ', '.join(row['consequents'])\n",
    "    G.add_edge(antecedents, consequents, support=row['support'], lift=row['lift'])\n",
    "\n",
    "# Dibujar el grafo\n",
    "plt.figure(figsize=(10, 5))\n",
    "pos = nx.spring_layout(G, k=2, scale=50)  \n",
    "\n",
    "# Dibujar los nodos\n",
    "nx.draw(G, pos, with_labels=True, node_size=3000, node_color='#ee6b6e', font_size=7, font_weight='bold', font_color='black')\n",
    "\n",
    "# Mostrar el grafo\n",
    "plt.title('Red de reglas de asociación')\n",
    "plt.show()"
   ]
  }
 ],
 "metadata": {
  "kernelspec": {
   "display_name": "Python 3",
   "language": "python",
   "name": "python3"
  },
  "language_info": {
   "codemirror_mode": {
    "name": "ipython",
    "version": 3
   },
   "file_extension": ".py",
   "mimetype": "text/x-python",
   "name": "python",
   "nbconvert_exporter": "python",
   "pygments_lexer": "ipython3",
   "version": "3.10.2"
  }
 },
 "nbformat": 4,
 "nbformat_minor": 2
}
